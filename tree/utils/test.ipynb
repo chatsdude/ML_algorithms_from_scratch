{
 "cells": [
  {
   "cell_type": "code",
   "execution_count": 14,
   "metadata": {},
   "outputs": [],
   "source": [
    "import sys\n",
    "sys.path.insert(0,\"../\")\n",
    "from DecisionTree import DecisionTreeClassifier"
   ]
  },
  {
   "cell_type": "code",
   "execution_count": 13,
   "metadata": {},
   "outputs": [],
   "source": [
    "%load_ext autoreload\n",
    "%autoreload 2"
   ]
  },
  {
   "cell_type": "code",
   "execution_count": 4,
   "metadata": {},
   "outputs": [],
   "source": [
    "import pandas as pd\n",
    "import numpy as np"
   ]
  },
  {
   "cell_type": "code",
   "execution_count": 5,
   "metadata": {},
   "outputs": [],
   "source": [
    "from sklearn import datasets\n",
    "from sklearn.model_selection import train_test_split\n",
    "\n",
    "iris=datasets.load_iris()\n",
    "X,y=iris.data,iris.target\n",
    "X_train,X_test,y_train,y_test=train_test_split(X,y,test_size=0.3,random_state=1234)"
   ]
  },
  {
   "cell_type": "code",
   "execution_count": 47,
   "metadata": {},
   "outputs": [
    {
     "name": "stdout",
     "output_type": "stream",
     "text": [
      "<class 'pandas.core.frame.DataFrame'> <class 'pandas.core.series.Series'>\n",
      "<class 'pandas.core.frame.DataFrame'> <class 'pandas.core.series.Series'>\n",
      "<class 'pandas.core.frame.DataFrame'> <class 'pandas.core.series.Series'>\n",
      "<class 'pandas.core.frame.DataFrame'> <class 'pandas.core.series.Series'>\n",
      "<class 'pandas.core.frame.DataFrame'> <class 'pandas.core.series.Series'>\n",
      "<class 'pandas.core.frame.DataFrame'> <class 'pandas.core.series.Series'>\n",
      "<class 'pandas.core.frame.DataFrame'> <class 'pandas.core.series.Series'>\n",
      "<class 'pandas.core.frame.DataFrame'> <class 'pandas.core.series.Series'>\n",
      "<class 'pandas.core.frame.DataFrame'> <class 'pandas.core.series.Series'>\n",
      "<class 'pandas.core.frame.DataFrame'> <class 'pandas.core.series.Series'>\n",
      "<class 'pandas.core.frame.DataFrame'> <class 'pandas.core.series.Series'>\n",
      "<class 'pandas.core.frame.DataFrame'> <class 'pandas.core.series.Series'>\n",
      "<class 'pandas.core.frame.DataFrame'> <class 'pandas.core.series.Series'>\n",
      "<class 'pandas.core.frame.DataFrame'> <class 'pandas.core.series.Series'>\n",
      "<class 'pandas.core.frame.DataFrame'> <class 'pandas.core.series.Series'>\n",
      "<class 'pandas.core.frame.DataFrame'> <class 'pandas.core.series.Series'>\n",
      "<class 'pandas.core.frame.DataFrame'> <class 'pandas.core.series.Series'>\n",
      "<class 'pandas.core.frame.DataFrame'> <class 'pandas.core.series.Series'>\n",
      "<class 'pandas.core.frame.DataFrame'> <class 'pandas.core.series.Series'>\n",
      "<class 'pandas.core.frame.DataFrame'> <class 'pandas.core.series.Series'>\n",
      "[<utils.Node.Node object at 0x000001B04E7299D0>, <utils.Node.Node object at 0x000001B04E729610>, <utils.Node.Node object at 0x000001B04E7919D0>, <utils.Node.Node object at 0x000001B04E791520>, <utils.Node.Node object at 0x000001B04E791970>, <utils.Node.Node object at 0x000001B04E7915E0>, <utils.Node.Node object at 0x000001B04E7B9490>, <utils.Node.Node object at 0x000001B04E7B9AC0>, <utils.Node.Node object at 0x000001B04E76FC10>, <utils.Node.Node object at 0x000001B04E76FB50>, <utils.Node.Node object at 0x000001B04E76FD30>, <utils.Node.Node object at 0x000001B04E58C7C0>, <utils.Node.Node object at 0x000001B04E58C610>, <utils.Node.Node object at 0x000001B04E58C2B0>, <utils.Node.Node object at 0x000001B04E58C430>, <utils.Node.Node object at 0x000001B04E7A4E20>, <utils.Node.Node object at 0x000001B04E7A4520>, <utils.Node.Node object at 0x000001B04E7A4C70>, <utils.Node.Node object at 0x000001B04E7B25B0>, <utils.Node.Node object at 0x000001B04E7B2BB0>]\n"
     ]
    }
   ],
   "source": [
    "trees = []\n",
    "from DecisionTree import DecisionTreeClassifier\n",
    "\n",
    "tree = DecisionTreeClassifier(max_depth=20)\n",
    "\n",
    "def fit(X,y):\n",
    "    X,y = pd.DataFrame(X),pd.Series(y)\n",
    "    print(type(X),type(y))\n",
    "\n",
    "    X['Target'] = y\n",
    "    #print(X.head())\n",
    "\n",
    "    #Create a bootstrapped dataset\n",
    "    X = X.sample(n=len(X),replace=True)\n",
    "\n",
    "    target = X['Target']\n",
    "    X = X.drop('Target',axis=1)\n",
    "\n",
    "    #Set a feature size to select from dataset.\n",
    "    #feature_size = round(np.sqrt(X.shape[1]))\n",
    "\n",
    "    #Randomly select features from dataset\n",
    "    #random_features_df = X.sample(n=feature_size,axis=\"columns\")\n",
    "\n",
    "    #print(type(random_features_df))\n",
    "\n",
    "    #reset column names for random DataFrame\n",
    "    #random_features_df.columns = range(random_features_df.shape[1])\n",
    "\n",
    "    #Convert df back to np array\n",
    "    #random_features_np = random_features_df.to_numpy()\n",
    "    #target = target.to_numpy()\n",
    "    X = X.to_numpy()\n",
    "    target = target.to_numpy()\n",
    "\n",
    "    #Create a decision tree for this data\n",
    "    root = tree._build_decision_tree(X,target)\n",
    "\n",
    "    if root is not None:\n",
    "        trees.append(root)\n",
    "    else:\n",
    "        print(\"root was not built properly\")\n",
    "\n",
    "for _ in range(20):\n",
    "    fit(X_train, y_train)\n",
    "print(trees)"
   ]
  },
  {
   "cell_type": "code",
   "execution_count": 45,
   "metadata": {},
   "outputs": [
    {
     "name": "stdout",
     "output_type": "stream",
     "text": [
      "45\n"
     ]
    }
   ],
   "source": [
    "print(len(X_test))"
   ]
  },
  {
   "cell_type": "code",
   "execution_count": 53,
   "metadata": {},
   "outputs": [
    {
     "name": "stdout",
     "output_type": "stream",
     "text": [
      "45\n",
      "0.9777777777777777\n"
     ]
    }
   ],
   "source": [
    "prediction = []\n",
    "predictions=[]\n",
    "for x in X_test:\n",
    "    for root in trees:\n",
    "        prediction.append(tree._traverse_decision_tree(x,root))\n",
    "    predictions.append(max(set(prediction),key=prediction.count))\n",
    "    prediction.clear()\n",
    "\n",
    "#print(len(predictions[1]))\n",
    "predictions = np.array(predictions)\n",
    "print(len(predictions))\n",
    "acc=np.sum(predictions==y_test)/len(y_test)\n",
    "print(acc)\n"
   ]
  },
  {
   "cell_type": "code",
   "execution_count": 38,
   "metadata": {},
   "outputs": [
    {
     "name": "stdout",
     "output_type": "stream",
     "text": [
      "[6.1 3.  4.6 1.4]\n",
      "[6.1 2.9 4.7 1.4]\n",
      "[6.3 2.9 5.6 1.8]\n",
      "[4.6 3.4 1.4 0.3]\n",
      "[5.2 2.7 3.9 1.4]\n",
      "[4.7 3.2 1.6 0.2]\n",
      "[5.2 3.5 1.5 0.2]\n",
      "[5.  3.2 1.2 0.2]\n",
      "[5.7 2.8 4.1 1.3]\n",
      "[7.7 2.8 6.7 2. ]\n",
      "[5.8 2.7 3.9 1.2]\n",
      "[4.4 3.2 1.3 0.2]\n",
      "[7.7 3.8 6.7 2.2]\n",
      "[5.9 3.  4.2 1.5]\n",
      "[5.  3.5 1.6 0.6]\n",
      "[5.7 2.6 3.5 1. ]\n",
      "[6.3 3.3 6.  2.5]\n",
      "[5.  3.  1.6 0.2]\n",
      "[6.7 2.5 5.8 1.8]\n",
      "[5.6 2.7 4.2 1.3]\n",
      "[6.4 2.9 4.3 1.3]\n",
      "[6.5 2.8 4.6 1.5]\n",
      "[6.4 3.2 4.5 1.5]\n",
      "[6.1 2.8 4.7 1.2]\n",
      "[7.2 3.6 6.1 2.5]\n",
      "[5.3 3.7 1.5 0.2]\n",
      "[6.3 2.7 4.9 1.8]\n",
      "[5.8 2.6 4.  1.2]\n",
      "[7.1 3.  5.9 2.1]\n",
      "[4.8 3.4 1.6 0.2]\n",
      "[5.1 2.5 3.  1.1]\n",
      "[6.2 2.8 4.8 1.8]\n",
      "[5.  3.5 1.3 0.3]\n",
      "[6.3 2.8 5.1 1.5]\n",
      "[6.7 3.  5.  1.7]\n",
      "[4.8 3.4 1.9 0.2]\n",
      "[4.4 2.9 1.4 0.2]\n",
      "[5.4 3.4 1.7 0.2]\n",
      "[4.6 3.6 1.  0.2]\n",
      "[5.  2.3 3.3 1. ]\n",
      "[5.5 3.5 1.3 0.2]\n",
      "[6.2 2.2 4.5 1.5]\n",
      "[5.2 4.1 1.5 0.1]\n",
      "[6.9 3.1 5.1 2.3]\n",
      "[7.2 3.2 6.  1.8]\n"
     ]
    }
   ],
   "source": [
    "for x in X_test:\n",
    "    print(x)"
   ]
  },
  {
   "cell_type": "code",
   "execution_count": null,
   "metadata": {},
   "outputs": [],
   "source": []
  }
 ],
 "metadata": {
  "interpreter": {
   "hash": "802e9de2995c34f5c91d5c52c8734bc980978f09835a5c222977adcbf3cb2092"
  },
  "kernelspec": {
   "display_name": "Python 3.9.7 64-bit",
   "language": "python",
   "name": "python3"
  },
  "language_info": {
   "codemirror_mode": {
    "name": "ipython",
    "version": 3
   },
   "file_extension": ".py",
   "mimetype": "text/x-python",
   "name": "python",
   "nbconvert_exporter": "python",
   "pygments_lexer": "ipython3",
   "version": "3.9.7"
  },
  "orig_nbformat": 4
 },
 "nbformat": 4,
 "nbformat_minor": 2
}
